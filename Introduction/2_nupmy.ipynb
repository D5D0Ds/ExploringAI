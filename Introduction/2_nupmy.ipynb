{
 "cells": [
  {
   "cell_type": "markdown",
   "metadata": {},
   "source": [
    "# Numpy Notes"
   ]
  },
  {
   "cell_type": "code",
   "execution_count": 2,
   "metadata": {},
   "outputs": [
    {
     "name": "stdout",
     "output_type": "stream",
     "text": [
      "[0 1 2 3 4 5 6 7 8 9]\n"
     ]
    },
    {
     "data": {
      "text/plain": [
       "True"
      ]
     },
     "execution_count": 2,
     "metadata": {},
     "output_type": "execute_result"
    }
   ],
   "source": [
    "import numpy as np\n",
    "a = np.arange(1, 10, 2) #start, end (exclusive), step\n",
    "a = np.arange(10, dtype='float64') # array([ 0.,  1.,  2.,  3.,  4.,  5.,  6.,  7.,  8.,  9.])\n",
    "\n",
    "print(np.arange(10)) # [0 1 2 3 4 5 6 7 8 9]\n",
    "a.ndim #gives x in x X y matrix\n",
    "a.shape #gives [x,y] in x X y matrix\n",
    "\n",
    "a = np.linspace(0, 1, 8) #array([0.,0.14285714,0.28571429,0.42857143,0.57142857,0.71428571,0.85714286,1.])\n",
    "\n",
    "a = np.ones((2,3)) #array([[1.,1.,1.],[1.,1.,1.]])\n",
    "a = np.zeros((2,3)) #array([[0.,0.,0.],[0.,0.,0.]])\n",
    "\n",
    "a = np.eye(3) #array([[1.,0.,0.],[0.,1.,0.],[0.,0.,1.]])\n",
    "a = np.eye(3, 2) #3 is number of rows, 2 is number of columns, index of diagonal start with 0\n",
    "\n",
    "a = np.random.rand(4) # array([0.7663811 , 0.79018053, 0.48939364, 0.01307068])\n",
    "a = np.random.randn(4) # array([-0.32830012,  0.52506368, -1.51810411, -2.31168318])\n",
    "a = np.random.randint(0, 20, 15) # array([13,  9,  7,  6,  5,  4,  3,  2,  1,  0,  0,  0,  0,  0,  0])\n",
    "\n",
    "a[[2, 3, 2, 4, 2]] #Gives values of index 2, 3, 2, 4, 2 simuntaneously.\n",
    "a[5:] = 10 #array([0.,0.,0.,0.,0.,10.,10.,10.])\n",
    "b = np.arange(15) # and\n",
    "# a[5:] = b[::-1] #array([0, 1, 2, 3, 4, 4, 3, 2, 1, 0])\n",
    "\n",
    "np.array_equal(a, b) #Checks if two arrays are equal\n",
    "np.shares_memory(a, b) #Determine if two arrays share memory. If true then if we modify one, the other will be modified as well.\n",
    "# To avoid this we can use copy()\n",
    "# c = a[::2].copy()\n",
    "\n",
    "np.logical_or(a, b) #Returns an array of booleans where True if either of the inputs is True.\n",
    "np.logical_and(a, b) #Returns an array of booleans where True if both of the inputs are True.\n",
    "\n",
    "np.sin(a) #Returns the sine of each element of a.\n",
    "np.log(a) #Returns the natural logarithm of each element of a.\n",
    "np.exp(a) #Returns the exponential of each element of a.\n",
    "\n",
    "np.array([[1, 1], [2, 2]]).sum(axis=0) #Sum of each column\n",
    "np.array([[1, 1], [2, 2]]).sum(axis=1) #Sum of each row\n",
    "\n",
    "np.array([1, 3, 2]).min() #Returns the minimum value of an array.\n",
    "np.array([1, 3, 2]).max() #Returns the maximum value of an array.\n",
    "np.array([1, 3, 2]).mean() #Returns the mean value of an array.\n",
    "np.array([1, 3, 2]).std() #Returns the standard deviation of an array.\n",
    "np.array([1, 3, 2]).var() #Returns the variance of an array.\n",
    "np.array([1, 3, 2]).argmax() #Returns the indices of the maximum values along an axis.\n",
    "np.array([1, 3, 2]).argmin() #Returns the indices of the minimum values along an axis.\n",
    "\n",
    "np.all(a) #Returns True if all elements of a are True.\n",
    "np.any(a) #Returns True if any of the elements of a are True."
   ]
  },
  {
   "cell_type": "markdown",
   "metadata": {},
   "source": [
    "## To check time for a code\n",
    "### Use \"%time it\""
   ]
  },
  {
   "cell_type": "code",
   "execution_count": 3,
   "metadata": {},
   "outputs": [
    {
     "name": "stdout",
     "output_type": "stream",
     "text": [
      "475 µs ± 55.7 µs per loop (mean ± std. dev. of 7 runs, 1000 loops each)\n"
     ]
    }
   ],
   "source": [
    "L = range(1000)\n",
    "%timeit [i**2 for i in L]"
   ]
  },
  {
   "cell_type": "markdown",
   "metadata": {},
   "source": [
    "## Fancy Indexing/Masking"
   ]
  },
  {
   "cell_type": "code",
   "execution_count": 4,
   "metadata": {},
   "outputs": [],
   "source": [
    "a = np.random.randint(0, 20, 15)\n",
    "mask = (a % 2 == 0)\n",
    "extract_from_a = a[mask] #array([18, 18,  0, 14, 12,  4, 16,  8])\n",
    "a[mask] = -1 #array([-1, 17,  1, -1,  5, 17, -1, -1, -1, 11, -1, 15, -1, -1,  7])"
   ]
  },
  {
   "cell_type": "markdown",
   "metadata": {},
   "source": [
    "## Extracting text from files\n",
    "\n",
    "### data = np.loadtxt('populations.txt')\n",
    "array([[  1900.,  30000.,   4000.,  48300.],\n",
    "       [  1901.,  47200.,   6100.,  48200.],\n",
    "       [  1902.,  70200.,   9800.,  41500.],\n",
    "       [  1903.,  77400.,  35200.,  38200.],\n",
    "       [  1904.,  36300.,  59400.,  40600.],\n",
    "       [  1905.,  20600.,  41700.,  39800.],\n",
    "       [  1906.,  18100.,  19000.,  38600.],\n",
    "       [  1907.,  21400.,  13000.,  42300.],\n",
    "       [  1908.,  22000.,   8300.,  44500.],\n",
    "       [  1909.,  25400.,   9100.,  42100.],\n",
    "       [  1910.,  27100.,   7400.,  46000.],\n",
    "       [  1911.,  40300.,   8000.,  46800.],\n",
    "       [  1912.,  57000.,  12300.,  43800.],\n",
    "       [  1913.,  76600.,  19500.,  40900.],\n",
    "       [  1914.,  52300.,  45700.,  39400.],\n",
    "       [  1915.,  19500.,  51100.,  39000.],\n",
    "       [  1916.,  11200.,  29700.,  36700.],\n",
    "       [  1917.,   7600.,  15800.,  41800.],\n",
    "       [  1918.,  14600.,   9700.,  43300.],\n",
    "       [  1919.,  16200.,  10100.,  41300.],\n",
    "       [  1920.,  24700.,   8600.,  47300.]])\n",
    "\n",
    "### populations.std(axis=0)\n",
    "array([ 20897.90645809,  16254.59153691,   3322.50622558])\n",
    "\n",
    "### np.argmax(populations, axis=1)\n",
    "array([2, 2, 0, 0, 1, 1, 2, 2, 2, 2, 2, 2, 0, 0, 0, 1, 2, 2, 2, 2, 2])"
   ]
  },
  {
   "cell_type": "markdown",
   "metadata": {},
   "source": [
    "## Broad casting"
   ]
  },
  {
   "cell_type": "code",
   "execution_count": 5,
   "metadata": {},
   "outputs": [],
   "source": [
    "a = np.tile(np.arange(0, 40, 10), (3,1)) #Makes a 1 X 3 matrix with values 0, 10, 20, 30 in a tile of 3 X 1 dimension where the matrix occupies 1 unit\n",
    "a=a.T # Transpose the array\n",
    "\n",
    "a = np.arange(0, 40, 10)\n",
    "a = a[:, np.newaxis]  # adds a new axis -> 2D array"
   ]
  },
  {
   "cell_type": "markdown",
   "metadata": {},
   "source": [
    "## Array Shape Manipulation"
   ]
  },
  {
   "cell_type": "code",
   "execution_count": 6,
   "metadata": {},
   "outputs": [
    {
     "data": {
      "text/plain": [
       "array([[1],\n",
       "       [2],\n",
       "       [3]])"
      ]
     },
     "execution_count": 6,
     "metadata": {},
     "output_type": "execute_result"
    }
   ],
   "source": [
    "a.ravel() #Returns a flattened array. A 1D array with all the elements of a.\n",
    "\n",
    "z = np.array([1, 2, 3])\n",
    "z[:, np.newaxis] # Used to increase the dimension of the exist by 1 --> 2D will become 3D array."
   ]
  },
  {
   "cell_type": "code",
   "execution_count": null,
   "metadata": {},
   "outputs": [],
   "source": []
  }
 ],
 "metadata": {
  "interpreter": {
   "hash": "4f3b078249380ea762697f4f8f6aea77b3d6e43cbb1b18cbb73d8cde5aa597e7"
  },
  "kernelspec": {
   "display_name": "Python 3.9.7 64-bit (system)",
   "language": "python",
   "name": "python3"
  },
  "language_info": {
   "codemirror_mode": {
    "name": "ipython",
    "version": 3
   },
   "file_extension": ".py",
   "mimetype": "text/x-python",
   "name": "python",
   "nbconvert_exporter": "python",
   "pygments_lexer": "ipython3",
   "version": "3.8.12"
  },
  "orig_nbformat": 4
 },
 "nbformat": 4,
 "nbformat_minor": 2
}
